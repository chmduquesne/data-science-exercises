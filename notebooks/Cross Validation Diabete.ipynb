{
 "cells": [
  {
   "cell_type": "markdown",
   "metadata": {},
   "source": [
    "Source\n",
    "------\n",
    "http://scikit-learn.org/stable/tutorial/statistical_inference/model_selection.html\n",
    "    \n",
    "Statement\n",
    "---------\n",
    "Exercise\n",
    "\n",
    "On the diabetes dataset, find the optimal regularization parameter alpha.\n",
    "\n",
    "Bonus: How much can you trust the selection of alpha?\n",
    "\n",
    "\n",
    "    from sklearn import datasets\n",
    "    from sklearn.linear_model import LassoCV\n",
    "    from sklearn.linear_model import Lasso\n",
    "    from sklearn.model_selection import KFold\n",
    "    from sklearn.model_selection import GridSearchCV\n",
    "    \n",
    "    diabetes = datasets.load_diabetes()"
   ]
  },
  {
   "cell_type": "code",
   "execution_count": 1,
   "metadata": {},
   "outputs": [],
   "source": [
    "from sklearn import datasets\n",
    "from sklearn.linear_model import LassoCV\n",
    "from sklearn.linear_model import Lasso\n",
    "from sklearn.model_selection import KFold\n",
    "from sklearn.model_selection import GridSearchCV\n",
    "\n",
    "diabetes = datasets.load_diabetes()"
   ]
  },
  {
   "cell_type": "code",
   "execution_count": null,
   "metadata": {},
   "outputs": [],
   "source": []
  }
 ],
 "metadata": {
  "kernelspec": {
   "display_name": "Python 3",
   "language": "python",
   "name": "python3"
  },
  "language_info": {
   "codemirror_mode": {
    "name": "ipython",
    "version": 3
   },
   "file_extension": ".py",
   "mimetype": "text/x-python",
   "name": "python",
   "nbconvert_exporter": "python",
   "pygments_lexer": "ipython3",
   "version": "3.7.0"
  }
 },
 "nbformat": 4,
 "nbformat_minor": 2
}
