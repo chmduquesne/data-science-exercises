{
 "cells": [
  {
   "cell_type": "markdown",
   "metadata": {},
   "source": [
    "Source\n",
    "------\n",
    "http://scikit-learn.org/stable/tutorial/statistical_inference/model_selection.html\n",
    "    \n",
    "Statement\n",
    "---------\n",
    "Exercise\n",
    "\n",
    "On the diabetes dataset, find the optimal regularization parameter alpha.\n",
    "\n",
    "Bonus: How much can you trust the selection of alpha?\n",
    "\n",
    "\n",
    "    from sklearn import datasets\n",
    "    from sklearn.linear_model import LassoCV\n",
    "    from sklearn.linear_model import Lasso\n",
    "    from sklearn.model_selection import KFold\n",
    "    from sklearn.model_selection import GridSearchCV\n",
    "    \n",
    "    diabetes = datasets.load_diabetes()"
   ]
  },
  {
   "cell_type": "code",
   "execution_count": 1,
   "metadata": {},
   "outputs": [
    {
     "name": "stderr",
     "output_type": "stream",
     "text": [
      "/home/cduquesne/code/perso/data-science-exercises/venv/lib/python3.5/importlib/_bootstrap.py:222: RuntimeWarning: numpy.dtype size changed, may indicate binary incompatibility. Expected 96, got 88\n",
      "  return f(*args, **kwds)\n",
      "/home/cduquesne/code/perso/data-science-exercises/venv/lib/python3.5/importlib/_bootstrap.py:222: RuntimeWarning: numpy.dtype size changed, may indicate binary incompatibility. Expected 96, got 88\n",
      "  return f(*args, **kwds)\n",
      "/home/cduquesne/code/perso/data-science-exercises/venv/lib/python3.5/importlib/_bootstrap.py:222: RuntimeWarning: numpy.dtype size changed, may indicate binary incompatibility. Expected 96, got 88\n",
      "  return f(*args, **kwds)\n",
      "/home/cduquesne/code/perso/data-science-exercises/venv/lib/python3.5/importlib/_bootstrap.py:222: RuntimeWarning: numpy.dtype size changed, may indicate binary incompatibility. Expected 96, got 88\n",
      "  return f(*args, **kwds)\n"
     ]
    }
   ],
   "source": [
    "from sklearn import datasets\n",
    "from sklearn.linear_model import LassoCV\n",
    "from sklearn.linear_model import Lasso\n",
    "from sklearn.model_selection import KFold\n",
    "from sklearn.model_selection import GridSearchCV\n",
    "import numpy as np\n",
    "\n",
    "diabetes = datasets.load_diabetes()"
   ]
  },
  {
   "cell_type": "code",
   "execution_count": 8,
   "metadata": {},
   "outputs": [
    {
     "name": "stdout",
     "output_type": "stream",
     "text": [
      "442 44\n"
     ]
    }
   ],
   "source": [
    "X = diabetes.data\n",
    "y = diabetes.target\n",
    "\n",
    "k = int(0.1 * len(diabetes.data))\n",
    "\n",
    "print(len(diabetes.data), k)"
   ]
  },
  {
   "cell_type": "code",
   "execution_count": 9,
   "metadata": {},
   "outputs": [
    {
     "data": {
      "text/plain": [
       "0.6790157799563594"
      ]
     },
     "execution_count": 9,
     "metadata": {},
     "output_type": "execute_result"
    }
   ],
   "source": [
    "# This model is cross validated by default\n",
    "lassocv = LassoCV()\n",
    "lassocv.fit(X[:-k], y[:-k])\n",
    "lassocv.score(X[-k:], y[-k:])"
   ]
  },
  {
   "cell_type": "code",
   "execution_count": 4,
   "metadata": {},
   "outputs": [
    {
     "name": "stderr",
     "output_type": "stream",
     "text": [
      "/home/cduquesne/code/perso/data-science-exercises/venv/lib/python3.5/site-packages/sklearn/linear_model/coordinate_descent.py:491: ConvergenceWarning: Objective did not converge. You might want to increase the number of iterations. Fitting data with very small alpha may cause precision problems.\n",
      "  ConvergenceWarning)\n",
      "/home/cduquesne/code/perso/data-science-exercises/venv/lib/python3.5/site-packages/sklearn/linear_model/coordinate_descent.py:491: ConvergenceWarning: Objective did not converge. You might want to increase the number of iterations. Fitting data with very small alpha may cause precision problems.\n",
      "  ConvergenceWarning)\n",
      "/home/cduquesne/code/perso/data-science-exercises/venv/lib/python3.5/site-packages/sklearn/linear_model/coordinate_descent.py:491: ConvergenceWarning: Objective did not converge. You might want to increase the number of iterations. Fitting data with very small alpha may cause precision problems.\n",
      "  ConvergenceWarning)\n",
      "/home/cduquesne/code/perso/data-science-exercises/venv/lib/python3.5/site-packages/sklearn/linear_model/coordinate_descent.py:491: ConvergenceWarning: Objective did not converge. You might want to increase the number of iterations. Fitting data with very small alpha may cause precision problems.\n",
      "  ConvergenceWarning)\n",
      "/home/cduquesne/code/perso/data-science-exercises/venv/lib/python3.5/site-packages/sklearn/linear_model/coordinate_descent.py:491: ConvergenceWarning: Objective did not converge. You might want to increase the number of iterations. Fitting data with very small alpha may cause precision problems.\n",
      "  ConvergenceWarning)\n",
      "/home/cduquesne/code/perso/data-science-exercises/venv/lib/python3.5/site-packages/sklearn/linear_model/coordinate_descent.py:491: ConvergenceWarning: Objective did not converge. You might want to increase the number of iterations. Fitting data with very small alpha may cause precision problems.\n",
      "  ConvergenceWarning)\n",
      "/home/cduquesne/code/perso/data-science-exercises/venv/lib/python3.5/site-packages/sklearn/linear_model/coordinate_descent.py:491: ConvergenceWarning: Objective did not converge. You might want to increase the number of iterations. Fitting data with very small alpha may cause precision problems.\n",
      "  ConvergenceWarning)\n",
      "/home/cduquesne/code/perso/data-science-exercises/venv/lib/python3.5/site-packages/sklearn/linear_model/coordinate_descent.py:491: ConvergenceWarning: Objective did not converge. You might want to increase the number of iterations. Fitting data with very small alpha may cause precision problems.\n",
      "  ConvergenceWarning)\n",
      "/home/cduquesne/code/perso/data-science-exercises/venv/lib/python3.5/site-packages/sklearn/linear_model/coordinate_descent.py:491: ConvergenceWarning: Objective did not converge. You might want to increase the number of iterations. Fitting data with very small alpha may cause precision problems.\n",
      "  ConvergenceWarning)\n",
      "/home/cduquesne/code/perso/data-science-exercises/venv/lib/python3.5/site-packages/sklearn/linear_model/coordinate_descent.py:491: ConvergenceWarning: Objective did not converge. You might want to increase the number of iterations. Fitting data with very small alpha may cause precision problems.\n",
      "  ConvergenceWarning)\n",
      "/home/cduquesne/code/perso/data-science-exercises/venv/lib/python3.5/site-packages/sklearn/linear_model/coordinate_descent.py:491: ConvergenceWarning: Objective did not converge. You might want to increase the number of iterations. Fitting data with very small alpha may cause precision problems.\n",
      "  ConvergenceWarning)\n",
      "/home/cduquesne/code/perso/data-science-exercises/venv/lib/python3.5/site-packages/sklearn/linear_model/coordinate_descent.py:491: ConvergenceWarning: Objective did not converge. You might want to increase the number of iterations. Fitting data with very small alpha may cause precision problems.\n",
      "  ConvergenceWarning)\n",
      "/home/cduquesne/code/perso/data-science-exercises/venv/lib/python3.5/site-packages/sklearn/linear_model/coordinate_descent.py:491: ConvergenceWarning: Objective did not converge. You might want to increase the number of iterations. Fitting data with very small alpha may cause precision problems.\n",
      "  ConvergenceWarning)\n",
      "/home/cduquesne/code/perso/data-science-exercises/venv/lib/python3.5/site-packages/sklearn/linear_model/coordinate_descent.py:491: ConvergenceWarning: Objective did not converge. You might want to increase the number of iterations. Fitting data with very small alpha may cause precision problems.\n",
      "  ConvergenceWarning)\n",
      "/home/cduquesne/code/perso/data-science-exercises/venv/lib/python3.5/site-packages/sklearn/linear_model/coordinate_descent.py:491: ConvergenceWarning: Objective did not converge. You might want to increase the number of iterations. Fitting data with very small alpha may cause precision problems.\n",
      "  ConvergenceWarning)\n",
      "/home/cduquesne/code/perso/data-science-exercises/venv/lib/python3.5/site-packages/sklearn/linear_model/coordinate_descent.py:491: ConvergenceWarning: Objective did not converge. You might want to increase the number of iterations. Fitting data with very small alpha may cause precision problems.\n",
      "  ConvergenceWarning)\n",
      "/home/cduquesne/code/perso/data-science-exercises/venv/lib/python3.5/site-packages/sklearn/linear_model/coordinate_descent.py:491: ConvergenceWarning: Objective did not converge. You might want to increase the number of iterations. Fitting data with very small alpha may cause precision problems.\n",
      "  ConvergenceWarning)\n",
      "/home/cduquesne/code/perso/data-science-exercises/venv/lib/python3.5/site-packages/sklearn/linear_model/coordinate_descent.py:491: ConvergenceWarning: Objective did not converge. You might want to increase the number of iterations. Fitting data with very small alpha may cause precision problems.\n",
      "  ConvergenceWarning)\n",
      "/home/cduquesne/code/perso/data-science-exercises/venv/lib/python3.5/site-packages/sklearn/linear_model/coordinate_descent.py:491: ConvergenceWarning: Objective did not converge. You might want to increase the number of iterations. Fitting data with very small alpha may cause precision problems.\n",
      "  ConvergenceWarning)\n",
      "/home/cduquesne/code/perso/data-science-exercises/venv/lib/python3.5/site-packages/sklearn/linear_model/coordinate_descent.py:491: ConvergenceWarning: Objective did not converge. You might want to increase the number of iterations. Fitting data with very small alpha may cause precision problems.\n",
      "  ConvergenceWarning)\n",
      "/home/cduquesne/code/perso/data-science-exercises/venv/lib/python3.5/site-packages/sklearn/linear_model/coordinate_descent.py:491: ConvergenceWarning: Objective did not converge. You might want to increase the number of iterations. Fitting data with very small alpha may cause precision problems.\n",
      "  ConvergenceWarning)\n",
      "/home/cduquesne/code/perso/data-science-exercises/venv/lib/python3.5/site-packages/sklearn/linear_model/coordinate_descent.py:491: ConvergenceWarning: Objective did not converge. You might want to increase the number of iterations. Fitting data with very small alpha may cause precision problems.\n",
      "  ConvergenceWarning)\n",
      "/home/cduquesne/code/perso/data-science-exercises/venv/lib/python3.5/site-packages/sklearn/linear_model/coordinate_descent.py:491: ConvergenceWarning: Objective did not converge. You might want to increase the number of iterations. Fitting data with very small alpha may cause precision problems.\n",
      "  ConvergenceWarning)\n",
      "/home/cduquesne/code/perso/data-science-exercises/venv/lib/python3.5/site-packages/sklearn/linear_model/coordinate_descent.py:491: ConvergenceWarning: Objective did not converge. You might want to increase the number of iterations. Fitting data with very small alpha may cause precision problems.\n",
      "  ConvergenceWarning)\n",
      "/home/cduquesne/code/perso/data-science-exercises/venv/lib/python3.5/site-packages/sklearn/linear_model/coordinate_descent.py:491: ConvergenceWarning: Objective did not converge. You might want to increase the number of iterations. Fitting data with very small alpha may cause precision problems.\n",
      "  ConvergenceWarning)\n",
      "/home/cduquesne/code/perso/data-science-exercises/venv/lib/python3.5/site-packages/sklearn/linear_model/coordinate_descent.py:491: ConvergenceWarning: Objective did not converge. You might want to increase the number of iterations. Fitting data with very small alpha may cause precision problems.\n",
      "  ConvergenceWarning)\n",
      "/home/cduquesne/code/perso/data-science-exercises/venv/lib/python3.5/site-packages/sklearn/linear_model/coordinate_descent.py:491: ConvergenceWarning: Objective did not converge. You might want to increase the number of iterations. Fitting data with very small alpha may cause precision problems.\n",
      "  ConvergenceWarning)\n",
      "/home/cduquesne/code/perso/data-science-exercises/venv/lib/python3.5/site-packages/sklearn/linear_model/coordinate_descent.py:491: ConvergenceWarning: Objective did not converge. You might want to increase the number of iterations. Fitting data with very small alpha may cause precision problems.\n",
      "  ConvergenceWarning)\n",
      "/home/cduquesne/code/perso/data-science-exercises/venv/lib/python3.5/site-packages/sklearn/linear_model/coordinate_descent.py:491: ConvergenceWarning: Objective did not converge. You might want to increase the number of iterations. Fitting data with very small alpha may cause precision problems.\n",
      "  ConvergenceWarning)\n",
      "/home/cduquesne/code/perso/data-science-exercises/venv/lib/python3.5/site-packages/sklearn/linear_model/coordinate_descent.py:491: ConvergenceWarning: Objective did not converge. You might want to increase the number of iterations. Fitting data with very small alpha may cause precision problems.\n",
      "  ConvergenceWarning)\n",
      "/home/cduquesne/code/perso/data-science-exercises/venv/lib/python3.5/site-packages/sklearn/linear_model/coordinate_descent.py:491: ConvergenceWarning: Objective did not converge. You might want to increase the number of iterations. Fitting data with very small alpha may cause precision problems.\n",
      "  ConvergenceWarning)\n",
      "/home/cduquesne/code/perso/data-science-exercises/venv/lib/python3.5/site-packages/sklearn/linear_model/coordinate_descent.py:491: ConvergenceWarning: Objective did not converge. You might want to increase the number of iterations. Fitting data with very small alpha may cause precision problems.\n",
      "  ConvergenceWarning)\n",
      "/home/cduquesne/code/perso/data-science-exercises/venv/lib/python3.5/site-packages/sklearn/linear_model/coordinate_descent.py:491: ConvergenceWarning: Objective did not converge. You might want to increase the number of iterations. Fitting data with very small alpha may cause precision problems.\n",
      "  ConvergenceWarning)\n",
      "/home/cduquesne/code/perso/data-science-exercises/venv/lib/python3.5/site-packages/sklearn/linear_model/coordinate_descent.py:491: ConvergenceWarning: Objective did not converge. You might want to increase the number of iterations. Fitting data with very small alpha may cause precision problems.\n",
      "  ConvergenceWarning)\n"
     ]
    },
    {
     "name": "stderr",
     "output_type": "stream",
     "text": [
      "/home/cduquesne/code/perso/data-science-exercises/venv/lib/python3.5/site-packages/sklearn/linear_model/coordinate_descent.py:491: ConvergenceWarning: Objective did not converge. You might want to increase the number of iterations. Fitting data with very small alpha may cause precision problems.\n",
      "  ConvergenceWarning)\n",
      "/home/cduquesne/code/perso/data-science-exercises/venv/lib/python3.5/site-packages/sklearn/linear_model/coordinate_descent.py:491: ConvergenceWarning: Objective did not converge. You might want to increase the number of iterations. Fitting data with very small alpha may cause precision problems.\n",
      "  ConvergenceWarning)\n",
      "/home/cduquesne/code/perso/data-science-exercises/venv/lib/python3.5/site-packages/sklearn/linear_model/coordinate_descent.py:491: ConvergenceWarning: Objective did not converge. You might want to increase the number of iterations. Fitting data with very small alpha may cause precision problems.\n",
      "  ConvergenceWarning)\n"
     ]
    },
    {
     "data": {
      "text/plain": [
       "0.6796014866397124"
      ]
     },
     "execution_count": 4,
     "metadata": {},
     "output_type": "execute_result"
    }
   ],
   "source": [
    "alphas = np.logspace(-10, 10, 100)\n",
    "lasso = Lasso()\n",
    "clf = GridSearchCV(estimator=lasso, param_grid=dict(alpha=alphas))\n",
    "clf.fit(X[:-k], y[:-k])\n",
    "clf.score(X[-k:], y[-k:])"
   ]
  },
  {
   "cell_type": "code",
   "execution_count": 12,
   "metadata": {},
   "outputs": [
    {
     "name": "stderr",
     "output_type": "stream",
     "text": [
      "/home/cduquesne/code/perso/data-science-exercises/venv/lib/python3.5/site-packages/sklearn/utils/deprecation.py:122: FutureWarning: You are accessing a training score ('mean_train_score'), which will not be available by default any more in 0.21. If you need training scores, please set return_train_score=True\n",
      "  warnings.warn(*warn_args, **warn_kwargs)\n",
      "/home/cduquesne/code/perso/data-science-exercises/venv/lib/python3.5/site-packages/sklearn/utils/deprecation.py:122: FutureWarning: You are accessing a training score ('split0_train_score'), which will not be available by default any more in 0.21. If you need training scores, please set return_train_score=True\n",
      "  warnings.warn(*warn_args, **warn_kwargs)\n",
      "/home/cduquesne/code/perso/data-science-exercises/venv/lib/python3.5/site-packages/sklearn/utils/deprecation.py:122: FutureWarning: You are accessing a training score ('split1_train_score'), which will not be available by default any more in 0.21. If you need training scores, please set return_train_score=True\n",
      "  warnings.warn(*warn_args, **warn_kwargs)\n",
      "/home/cduquesne/code/perso/data-science-exercises/venv/lib/python3.5/site-packages/sklearn/utils/deprecation.py:122: FutureWarning: You are accessing a training score ('split2_train_score'), which will not be available by default any more in 0.21. If you need training scores, please set return_train_score=True\n",
      "  warnings.warn(*warn_args, **warn_kwargs)\n",
      "/home/cduquesne/code/perso/data-science-exercises/venv/lib/python3.5/site-packages/sklearn/utils/deprecation.py:122: FutureWarning: You are accessing a training score ('std_train_score'), which will not be available by default any more in 0.21. If you need training scores, please set return_train_score=True\n",
      "  warnings.warn(*warn_args, **warn_kwargs)\n"
     ]
    },
    {
     "data": {
      "text/plain": [
       "{'mean_fit_time': array([0.00278783, 0.00243664, 0.00235113, 0.00217342, 0.00209618,\n",
       "        0.00201845, 0.00193977, 0.00186769, 0.00180078, 0.00170247,\n",
       "        0.00163579, 0.00155576, 0.00148098, 0.00133483, 0.0010678 ,\n",
       "        0.00084901, 0.00079536, 0.00064301, 0.00047549, 0.0004793 ,\n",
       "        0.00049853, 0.00047628, 0.0004731 , 0.00047819, 0.00047358,\n",
       "        0.00055003, 0.00072869, 0.00049456, 0.00055329, 0.0005312 ]),\n",
       " 'mean_score_time': array([0.00034205, 0.00028872, 0.0002857 , 0.00027974, 0.00026528,\n",
       "        0.00026218, 0.00026313, 0.00026592, 0.00026099, 0.00026131,\n",
       "        0.00026941, 0.00026139, 0.00026822, 0.00027092, 0.000271  ,\n",
       "        0.00026361, 0.00025996, 0.00025876, 0.00026147, 0.000259  ,\n",
       "        0.00026655, 0.00026115, 0.00026035, 0.00026099, 0.00025495,\n",
       "        0.00026345, 0.00032353, 0.00028642, 0.00033045, 0.00029723]),\n",
       " 'mean_test_score': array([0.34908311, 0.34919799, 0.34934947, 0.34954908, 0.34981211,\n",
       "        0.35015826, 0.35061336, 0.35121121, 0.35199462, 0.35301935,\n",
       "        0.35435493, 0.35608875, 0.35832605, 0.36119022, 0.36479555,\n",
       "        0.36855937, 0.37102098, 0.37373637, 0.37536354, 0.37701536,\n",
       "        0.37935476, 0.38233056, 0.38443899, 0.3865947 , 0.38753399,\n",
       "        0.38591916, 0.38284243, 0.37482125, 0.35843308, 0.33333268]),\n",
       " 'mean_train_score': array([0.53500447, 0.53500421, 0.53500375, 0.53500295, 0.53500155,\n",
       "        0.53499911, 0.53499486, 0.53498746, 0.53497456, 0.53495208,\n",
       "        0.53491291, 0.53484467, 0.5347258 , 0.53451872, 0.53417431,\n",
       "        0.53375926, 0.53331398, 0.53254037, 0.53221836, 0.53198837,\n",
       "        0.53156624, 0.53083075, 0.52986492, 0.52820974, 0.52553595,\n",
       "        0.52162756, 0.51594658, 0.5070907 , 0.49221136, 0.4687959 ]),\n",
       " 'param_alpha': masked_array(data=[0.0001, 0.00013203517797162948, 0.00017433288221999874,\n",
       "                    0.00023018073130224678, 0.0003039195382313198,\n",
       "                    0.0004012807031942776, 0.0005298316906283707,\n",
       "                    0.0006995642156712634, 0.0009236708571873865,\n",
       "                    0.0012195704601594415, 0.0016102620275609393,\n",
       "                    0.0021261123338996556, 0.0028072162039411755,\n",
       "                    0.0037065129109221566, 0.004893900918477494,\n",
       "                    0.006461670787466976, 0.008531678524172814,\n",
       "                    0.011264816923358867, 0.014873521072935119,\n",
       "                    0.0196382800192977, 0.02592943797404667,\n",
       "                    0.03423597957607583, 0.04520353656360245,\n",
       "                    0.05968456995122311, 0.07880462815669913,\n",
       "                    0.10404983103657853, 0.1373823795883264,\n",
       "                    0.1813930693911063, 0.2395026619987486,\n",
       "                    0.31622776601683794],\n",
       "              mask=[False, False, False, False, False, False, False, False,\n",
       "                    False, False, False, False, False, False, False, False,\n",
       "                    False, False, False, False, False, False, False, False,\n",
       "                    False, False, False, False, False, False],\n",
       "        fill_value='?',\n",
       "             dtype=object),\n",
       " 'params': [{'alpha': 0.0001},\n",
       "  {'alpha': 0.00013203517797162948},\n",
       "  {'alpha': 0.00017433288221999874},\n",
       "  {'alpha': 0.00023018073130224678},\n",
       "  {'alpha': 0.0003039195382313198},\n",
       "  {'alpha': 0.0004012807031942776},\n",
       "  {'alpha': 0.0005298316906283707},\n",
       "  {'alpha': 0.0006995642156712634},\n",
       "  {'alpha': 0.0009236708571873865},\n",
       "  {'alpha': 0.0012195704601594415},\n",
       "  {'alpha': 0.0016102620275609393},\n",
       "  {'alpha': 0.0021261123338996556},\n",
       "  {'alpha': 0.0028072162039411755},\n",
       "  {'alpha': 0.0037065129109221566},\n",
       "  {'alpha': 0.004893900918477494},\n",
       "  {'alpha': 0.006461670787466976},\n",
       "  {'alpha': 0.008531678524172814},\n",
       "  {'alpha': 0.011264816923358867},\n",
       "  {'alpha': 0.014873521072935119},\n",
       "  {'alpha': 0.0196382800192977},\n",
       "  {'alpha': 0.02592943797404667},\n",
       "  {'alpha': 0.03423597957607583},\n",
       "  {'alpha': 0.04520353656360245},\n",
       "  {'alpha': 0.05968456995122311},\n",
       "  {'alpha': 0.07880462815669913},\n",
       "  {'alpha': 0.10404983103657853},\n",
       "  {'alpha': 0.1373823795883264},\n",
       "  {'alpha': 0.1813930693911063},\n",
       "  {'alpha': 0.2395026619987486},\n",
       "  {'alpha': 0.31622776601683794}],\n",
       " 'rank_test_score': array([29, 28, 27, 26, 25, 24, 23, 22, 21, 20, 19, 18, 17, 15, 14, 13, 12,\n",
       "        11,  9,  8,  7,  6,  4,  2,  1,  3,  5, 10, 16, 30], dtype=int32),\n",
       " 'split0_test_score': array([0.49889758, 0.49904617, 0.49924204, 0.49949989, 0.49983928,\n",
       "        0.50028519, 0.50087054, 0.50163718, 0.50263853, 0.50394169,\n",
       "        0.50562982, 0.50780124, 0.51056976, 0.51405283, 0.51835366,\n",
       "        0.52351344, 0.52940848, 0.53563161, 0.53805202, 0.53987602,\n",
       "        0.54210584, 0.54442014, 0.54353615, 0.54209348, 0.53971154,\n",
       "        0.53573493, 0.52903475, 0.51909684, 0.5036607 , 0.48200104]),\n",
       " 'split0_train_score': array([0.51596759, 0.51596728, 0.51596675, 0.51596583, 0.51596421,\n",
       "        0.5159614 , 0.51595649, 0.51594794, 0.51593305, 0.51590709,\n",
       "        0.51586185, 0.51578307, 0.51564583, 0.51540683, 0.51499056,\n",
       "        0.51426574, 0.5130088 , 0.51082525, 0.51009824, 0.50982492,\n",
       "        0.5093493 , 0.50858165, 0.50803528, 0.5070827 , 0.50542203,\n",
       "        0.50252689, 0.49747961, 0.49009063, 0.47775746, 0.45806382]),\n",
       " 'split1_test_score': array([0.10432714, 0.10449728, 0.10472164, 0.10501758, 0.105408  ,\n",
       "        0.10592262, 0.10660019, 0.10749292, 0.10866632, 0.11020867,\n",
       "        0.11223048, 0.11487756, 0.11833092, 0.12282031, 0.12862581,\n",
       "        0.13435233, 0.13531679, 0.13657139, 0.1381847 , 0.1402632 ,\n",
       "        0.14377667, 0.14890472, 0.15522627, 0.16277523, 0.17096327,\n",
       "        0.17764997, 0.18838338, 0.19502542, 0.19404855, 0.18245663]),\n",
       " 'split1_train_score': array([0.60652653, 0.60652624, 0.60652574, 0.60652487, 0.60652336,\n",
       "        0.60652072, 0.60651611, 0.60650809, 0.60649411, 0.60646973,\n",
       "        0.60642728, 0.60635327, 0.60622438, 0.60599979, 0.6056085 ,\n",
       "        0.6051194 , 0.60509499, 0.60505244, 0.60497868, 0.60484991,\n",
       "        0.60456064, 0.60399596, 0.60301155, 0.60129756, 0.5985703 ,\n",
       "        0.59574378, 0.59022362, 0.58147182, 0.56733854, 0.54491225]),\n",
       " 'split2_test_score': array([0.4440246 , 0.44405054, 0.44408473, 0.44412976, 0.44418904,\n",
       "        0.44426698, 0.44436936, 0.44450353, 0.444679  , 0.44490769,\n",
       "        0.44520448, 0.44558745, 0.44607748, 0.44669753, 0.44740718,\n",
       "        0.44781233, 0.44833766, 0.44900611, 0.4498539 , 0.45090685,\n",
       "        0.45218175, 0.45366682, 0.45455456, 0.45491538, 0.45192717,\n",
       "        0.44437258, 0.43110917, 0.4103415 , 0.37758999, 0.33554037]),\n",
       " 'split2_train_score': array([0.4825193 , 0.4825191 , 0.48251875, 0.48251814, 0.48251708,\n",
       "        0.48251522, 0.48251199, 0.48250635, 0.48249653, 0.48247942,\n",
       "        0.48244961, 0.48239766, 0.48230718, 0.48214956, 0.48192387,\n",
       "        0.48189265, 0.48183815, 0.48174342, 0.48157816, 0.48129027,\n",
       "        0.48078877, 0.47991464, 0.47854794, 0.47624897, 0.47261554,\n",
       "        0.46661199, 0.46013652, 0.44970966, 0.43153808, 0.40341164]),\n",
       " 'std_fit_time': array([6.95937448e-04, 7.20736985e-04, 6.94280261e-04, 5.08806289e-04,\n",
       "        5.10867874e-04, 4.91537626e-04, 4.60606472e-04, 4.52079698e-04,\n",
       "        4.52749830e-04, 4.06874157e-04, 3.87214136e-04, 3.97089291e-04,\n",
       "        3.51780471e-04, 3.67333341e-04, 5.00101344e-04, 5.38151243e-04,\n",
       "        4.32490645e-04, 2.51658989e-04, 1.96048447e-05, 1.99183784e-05,\n",
       "        6.89696228e-05, 5.80170383e-05, 6.50626009e-05, 6.34242218e-05,\n",
       "        6.30466766e-05, 1.61113461e-04, 1.60577504e-04, 1.23139343e-05,\n",
       "        9.60802880e-05, 9.64345437e-05]),\n",
       " 'std_score_time': array([2.31395709e-05, 3.77635763e-05, 3.28391242e-05, 1.34790281e-05,\n",
       "        3.17095714e-06, 2.48026634e-06, 1.98841031e-06, 7.86741172e-07,\n",
       "        7.86741172e-07, 1.59342588e-06, 5.56423539e-06, 2.78268518e-06,\n",
       "        6.51192679e-06, 9.42549456e-06, 4.67338258e-06, 9.01447864e-06,\n",
       "        1.89071930e-06, 3.26516447e-06, 2.04478587e-06, 3.40158694e-06,\n",
       "        9.02428232e-06, 3.89984263e-06, 2.63341928e-06, 5.84436299e-06,\n",
       "        1.17340271e-06, 1.19890808e-05, 6.33461011e-05, 1.24196528e-05,\n",
       "        5.22309032e-05, 3.92290143e-05]),\n",
       " 'std_test_score': array([0.17451241, 0.17448011, 0.1744375 , 0.1743812 , 0.17430675,\n",
       "        0.1742083 , 0.17407837, 0.17390614, 0.17367848, 0.17337632,\n",
       "        0.17297589, 0.17244278, 0.17173247, 0.17078123, 0.16949033,\n",
       "        0.16846833, 0.16992247, 0.17138926, 0.17153247, 0.17130395,\n",
       "        0.1705762 , 0.16916414, 0.16609894, 0.16221667, 0.15727615,\n",
       "        0.15191842, 0.14319706, 0.13466461, 0.12712241, 0.12229845]),\n",
       " 'std_train_score': array([0.0523848 , 0.05238477, 0.05238472, 0.05238464, 0.05238451,\n",
       "        0.05238426, 0.05238384, 0.05238311, 0.05238183, 0.0523796 ,\n",
       "        0.05237571, 0.05236893, 0.05235712, 0.05233653, 0.05228438,\n",
       "        0.05216132, 0.05232773, 0.0526304 , 0.05275034, 0.05282146,\n",
       "        0.05291543, 0.05304282, 0.05310491, 0.0531918 , 0.05335153,\n",
       "        0.05442047, 0.05468964, 0.05511847, 0.05637451, 0.0582637 ])}"
      ]
     },
     "execution_count": 12,
     "metadata": {},
     "output_type": "execute_result"
    }
   ],
   "source": [
    "clf.cv_results_"
   ]
  },
  {
   "cell_type": "markdown",
   "metadata": {},
   "source": [
    "Correction\n",
    "----------"
   ]
  },
  {
   "cell_type": "code",
   "execution_count": 16,
   "metadata": {},
   "outputs": [
    {
     "name": "stdout",
     "output_type": "stream",
     "text": [
      "Automatically created module for IPython interactive environment\n",
      "Answer to the bonus question: how much can you trust the selection of alpha?\n",
      "\n",
      "Alpha parameters maximising the generalization score on different\n",
      "subsets of the data:\n",
      "[fold 0] alpha: 0.10405, score: 0.53573\n",
      "[fold 1] alpha: 0.05968, score: 0.16278\n",
      "[fold 2] alpha: 0.10405, score: 0.44437\n",
      "\n",
      "Answer: Not very much since we obtained different alphas for different\n",
      "subsets of the data and moreover, the scores for these alphas differ\n",
      "quite substantially.\n"
     ]
    },
    {
     "data": {
      "image/png": "[encoded data removed]",
      "text/plain": [
       "<Figure size 576x432 with 1 Axes>"
      ]
     },
     "metadata": {},
     "output_type": "display_data"
    }
   ],
   "source": [
    "from __future__ import print_function\n",
    "print(__doc__)\n",
    "\n",
    "% matplotlib inline\n",
    "import numpy as np\n",
    "import matplotlib.pyplot as plt\n",
    "\n",
    "from sklearn import datasets\n",
    "from sklearn.linear_model import LassoCV\n",
    "from sklearn.linear_model import Lasso\n",
    "from sklearn.model_selection import KFold\n",
    "from sklearn.model_selection import GridSearchCV\n",
    "\n",
    "diabetes = datasets.load_diabetes()\n",
    "X = diabetes.data[:150]\n",
    "y = diabetes.target[:150]\n",
    "\n",
    "lasso = Lasso(random_state=0)\n",
    "alphas = np.logspace(-4, -0.5, 30)\n",
    "\n",
    "tuned_parameters = [{'alpha': alphas}]\n",
    "n_folds = 3\n",
    "\n",
    "clf = GridSearchCV(lasso, tuned_parameters, cv=n_folds, refit=False)\n",
    "clf.fit(X, y)\n",
    "scores = clf.cv_results_['mean_test_score']\n",
    "scores_std = clf.cv_results_['std_test_score']\n",
    "plt.figure().set_size_inches(8, 6)\n",
    "plt.semilogx(alphas, scores)\n",
    "\n",
    "# plot error lines showing +/- std. errors of the scores\n",
    "std_error = scores_std / np.sqrt(n_folds)\n",
    "\n",
    "plt.semilogx(alphas, scores + std_error, 'b--')\n",
    "plt.semilogx(alphas, scores - std_error, 'b--')\n",
    "\n",
    "# alpha=0.2 controls the translucency of the fill color\n",
    "plt.fill_between(alphas, scores + std_error, scores - std_error, alpha=0.2)\n",
    "\n",
    "plt.ylabel('CV score +/- std error')\n",
    "plt.xlabel('alpha')\n",
    "plt.axhline(np.max(scores), linestyle='--', color='.5')\n",
    "plt.xlim([alphas[0], alphas[-1]])\n",
    "\n",
    "# #############################################################################\n",
    "# Bonus: how much can you trust the selection of alpha?\n",
    "\n",
    "# To answer this question we use the LassoCV object that sets its alpha\n",
    "# parameter automatically from the data by internal cross-validation (i.e. it\n",
    "# performs cross-validation on the training data it receives).\n",
    "# We use external cross-validation to see how much the automatically obtained\n",
    "# alphas differ across different cross-validation folds.\n",
    "lasso_cv = LassoCV(alphas=alphas, random_state=0)\n",
    "k_fold = KFold(3)\n",
    "\n",
    "print(\"Answer to the bonus question:\",\n",
    "      \"how much can you trust the selection of alpha?\")\n",
    "print()\n",
    "print(\"Alpha parameters maximising the generalization score on different\")\n",
    "print(\"subsets of the data:\")\n",
    "for k, (train, test) in enumerate(k_fold.split(X, y)):\n",
    "    lasso_cv.fit(X[train], y[train])\n",
    "    print(\"[fold {0}] alpha: {1:.5f}, score: {2:.5f}\".\n",
    "          format(k, lasso_cv.alpha_, lasso_cv.score(X[test], y[test])))\n",
    "print()\n",
    "print(\"Answer: Not very much since we obtained different alphas for different\")\n",
    "print(\"subsets of the data and moreover, the scores for these alphas differ\")\n",
    "print(\"quite substantially.\")\n",
    "\n",
    "plt.show()\n"
   ]
  },
  {
   "cell_type": "markdown",
   "metadata": {},
   "source": [
    "Enhancements\n",
    "------------"
   ]
  },
  {
   "cell_type": "code",
   "execution_count": 21,
   "metadata": {},
   "outputs": [
    {
     "name": "stdout",
     "output_type": "stream",
     "text": [
      "Automatically created module for IPython interactive environment\n"
     ]
    },
    {
     "data": {
      "text/plain": [
       "(0.0001, 10.0)"
      ]
     },
     "execution_count": 21,
     "metadata": {},
     "output_type": "execute_result"
    },
    {
     "data": {
      "image/png": "[encoded data removed]",
      "text/plain": [
       "<Figure size 576x432 with 1 Axes>"
      ]
     },
     "metadata": {},
     "output_type": "display_data"
    }
   ],
   "source": [
    "from __future__ import print_function\n",
    "print(__doc__)\n",
    "\n",
    "% matplotlib inline\n",
    "import numpy as np\n",
    "import matplotlib.pyplot as plt\n",
    "\n",
    "from sklearn import datasets\n",
    "from sklearn.linear_model import LassoCV\n",
    "from sklearn.linear_model import Lasso\n",
    "from sklearn.model_selection import KFold\n",
    "from sklearn.model_selection import GridSearchCV\n",
    "\n",
    "diabetes = datasets.load_diabetes()\n",
    "# Why 150? There are 442 data points. Why not 90% of the data like in the other exercises?\n",
    "X = diabetes.data[:150]\n",
    "y = diabetes.target[:150]\n",
    "\n",
    "# The correction had 30 values of alphas between 10⁻⁴ and 10⁻⁰⸳⁵\n",
    "# Let's try 100 values between 10⁻⁴ and 10\n",
    "alphas = np.logspace(-4, 1, 100)\n",
    "\n",
    "# pretty much the same, but we don't force 3 folds because it's the default value\n",
    "# also we let the model refit because it should not change the result\n",
    "tuned_parameters = [{'alpha': alphas}]\n",
    "clf = GridSearchCV(lasso, tuned_parameters)\n",
    "clf.fit(X, y)\n",
    "scores = clf.cv_results_['mean_test_score']\n",
    "scores_std = clf.cv_results_['std_test_score']\n",
    "plt.figure().set_size_inches(8, 6)\n",
    "plt.semilogx(alphas, scores)\n",
    "std_error = scores_std / np.sqrt(n_folds)\n",
    "plt.semilogx(alphas, scores + std_error, 'b--')\n",
    "plt.semilogx(alphas, scores - std_error, 'b--')\n",
    "plt.fill_between(alphas, scores + std_error, scores - std_error, alpha=0.2)\n",
    "plt.ylabel('CV score +/- std error')\n",
    "plt.xlabel('alpha')\n",
    "plt.axhline(np.max(scores), linestyle='--', color='.5')\n",
    "plt.xlim([alphas[0], alphas[-1]])\n",
    "\n"
   ]
  },
  {
   "cell_type": "code",
   "execution_count": 22,
   "metadata": {},
   "outputs": [
    {
     "name": "stdout",
     "output_type": "stream",
     "text": [
      "[fold 0] alpha: 0.09545, score: 0.53720\n",
      "[fold 1] alpha: 0.05337, score: 0.15959\n",
      "[fold 2] alpha: 0.09545, score: 0.44716\n"
     ]
    }
   ],
   "source": [
    "lasso_cv = LassoCV(alphas=alphas, random_state=0)\n",
    "k_fold = KFold(3)\n",
    "for k, (train, test) in enumerate(k_fold.split(X, y)):\n",
    "    lasso_cv.fit(X[train], y[train])\n",
    "    print(\"[fold {0}] alpha: {1:.5f}, score: {2:.5f}\".\n",
    "          format(k, lasso_cv.alpha_, lasso_cv.score(X[test], y[test])))"
   ]
  },
  {
   "cell_type": "code",
   "execution_count": 23,
   "metadata": {},
   "outputs": [],
   "source": [
    "# ok, same conclusion"
   ]
  },
  {
   "cell_type": "code",
   "execution_count": null,
   "metadata": {},
   "outputs": [],
   "source": []
  }
 ],
 "metadata": {
  "kernelspec": {
   "display_name": "Python 3",
   "language": "python",
   "name": "python3"
  },
  "language_info": {
   "codemirror_mode": {
    "name": "ipython",
    "version": 3
   },
   "file_extension": ".py",
   "mimetype": "text/x-python",
   "name": "python",
   "nbconvert_exporter": "python",
   "pygments_lexer": "ipython3",
   "version": "3.5.2"
  }
 },
 "nbformat": 4,
 "nbformat_minor": 2
}
