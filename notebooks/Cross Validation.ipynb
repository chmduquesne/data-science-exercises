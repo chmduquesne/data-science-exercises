{
 "cells": [
  {
   "cell_type": "markdown",
   "metadata": {},
   "source": [
    "Source\n",
    "------\n",
    "http://scikit-learn.org/stable/tutorial/statistical_inference/model_selection.html\n",
    "\n",
    "Statement\n",
    "---------\n",
    "On the digits dataset, plot the cross-validation score of a SVC estimator with an linear kernel as a function of parameter C (use a logarithmic grid of points, from 1 to 10).\n",
    "\n",
    "\n",
    "    import numpy as np\n",
    "    from sklearn.model_selection import cross_val_score\n",
    "    from sklearn import datasets, svm\n",
    "    \n",
    "    digits = datasets.load_digits()\n",
    "    X = digits.data\n",
    "    y = digits.target\n",
    "    \n",
    "    svc = svm.SVC(kernel='linear')\n",
    "    C_s = np.logspace(-10, 0, 10)"
   ]
  },
  {
   "cell_type": "code",
   "execution_count": 1,
   "metadata": {},
   "outputs": [],
   "source": [
    "import numpy as np\n",
    "from sklearn.model_selection import cross_val_score\n",
    "from sklearn import datasets, svm\n",
    "\n",
    "digits = datasets.load_digits()\n",
    "X = digits.data\n",
    "y = digits.target\n",
    "\n",
    "svc = svm.SVC(kernel='linear')\n",
    "C_s = np.logspace(-10, 0, 10)"
   ]
  },
  {
   "cell_type": "code",
   "execution_count": 2,
   "metadata": {},
   "outputs": [
    {
     "name": "stdout",
     "output_type": "stream",
     "text": [
      "C: 0.000000 -> scores: [0.1013289  0.10183639 0.26342282] (mean: 0.155529)\n",
      "C: 0.000000 -> scores: [0.1013289  0.10183639 0.26342282] (mean: 0.155529)\n",
      "C: 0.000000 -> scores: [0.1013289  0.10183639 0.26342282] (mean: 0.155529)\n",
      "C: 0.000000 -> scores: [0.1013289  0.10183639 0.26342282] (mean: 0.155529)\n",
      "C: 0.000003 -> scores: [0.1013289  0.10183639 0.26342282] (mean: 0.155529)\n",
      "C: 0.000036 -> scores: [0.90697674 0.9015025  0.89932886] (mean: 0.902603)\n",
      "C: 0.000464 -> scores: [0.95348837 0.96160267 0.9295302 ] (mean: 0.948207)\n",
      "C: 0.005995 -> scores: [0.93853821 0.95826377 0.93791946] (mean: 0.944907)\n",
      "C: 0.077426 -> scores: [0.93521595 0.95826377 0.93791946] (mean: 0.943800)\n",
      "C: 1.000000 -> scores: [0.93521595 0.95826377 0.93791946] (mean: 0.943800)\n"
     ]
    }
   ],
   "source": [
    "for C in C_s:\n",
    "    svc.C = C\n",
    "    scores = cross_val_score(svc, X, y)\n",
    "    print(\"C: %f -> scores: %s (mean: %f)\" %(C, scores, scores.mean()))"
   ]
  },
  {
   "cell_type": "markdown",
   "metadata": {},
   "source": [
    "Correction\n",
    "----------"
   ]
  },
  {
   "cell_type": "code",
   "execution_count": null,
   "metadata": {},
   "outputs": [],
   "source": [
    "import numpy as np\n",
    "from sklearn.model_selection import cross_val_score\n",
    "from sklearn import datasets, svm\n",
    "\n",
    "digits = datasets.load_digits()\n",
    "X = digits.data\n",
    "y = digits.target\n",
    "\n",
    "svc = svm.SVC(kernel='linear')\n",
    "C_s = np.logspace(-10, 0, 10)\n",
    "\n",
    "scores = list()\n",
    "scores_std = list()\n",
    "for C in C_s:\n",
    "    svc.C = C\n",
    "    this_scores = cross_val_score(svc, X, y, n_jobs=1)\n",
    "    scores.append(np.mean(this_scores))\n",
    "    scores_std.append(np.std(this_scores))\n",
    "\n",
    "%matplotlib inline\n",
    "# Do the plotting\n",
    "import matplotlib.pyplot as plt\n",
    "plt.figure(1, figsize=(4, 3))\n",
    "plt.clf()\n",
    "plt.semilogx(C_s, scores)\n",
    "plt.semilogx(C_s, np.array(scores) + np.array(scores_std), 'b--')\n",
    "plt.semilogx(C_s, np.array(scores) - np.array(scores_std), 'b--')\n",
    "locs, labels = plt.yticks()\n",
    "plt.yticks(locs, list(map(lambda x: \"%g\" % x, locs)))\n",
    "plt.ylabel('CV score')\n",
    "plt.xlabel('Parameter C')\n",
    "plt.ylim(0, 1.1)\n",
    "plt.show()"
   ]
  },
  {
   "cell_type": "code",
   "execution_count": null,
   "metadata": {},
   "outputs": [],
   "source": []
  }
 ],
 "metadata": {
  "kernelspec": {
   "display_name": "Python 3",
   "language": "python",
   "name": "python3"
  },
  "language_info": {
   "codemirror_mode": {
    "name": "ipython",
    "version": 3
   },
   "file_extension": ".py",
   "mimetype": "text/x-python",
   "name": "python",
   "nbconvert_exporter": "python",
   "pygments_lexer": "ipython3",
   "version": "3.7.0"
  }
 },
 "nbformat": 4,
 "nbformat_minor": 2
}
