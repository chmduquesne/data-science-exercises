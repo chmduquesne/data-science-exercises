{
 "cells": [
  {
   "cell_type": "code",
   "execution_count": 13,
   "metadata": {},
   "outputs": [
    {
     "data": {
      "application/vnd.jupyter.widget-view+json": {
       "model_id": "00e4970657304d03be05984ccc6f9313",
       "version_major": 2,
       "version_minor": 0
      },
      "text/plain": [
       "Map(basemap={'max_zoom': 19, 'attribution': 'Map data (c) <a href=\"https://openstreetmap.org\">OpenStreetMap</a…"
      ]
     },
     "metadata": {},
     "output_type": "display_data"
    }
   ],
   "source": [
    "from ipyleaflet import Map, basemaps, basemap_to_tiles\n",
    "\n",
    "m = Map(\n",
    "    layers=(basemap_to_tiles(basemaps.NASAGIBS.ModisTerraTrueColorCR, \"2017-04-08\"), ),\n",
    "    center=(52.204793, 360.121558),\n",
    "    zoom=4\n",
    ")\n",
    "\n",
    "m"
   ]
  },
  {
   "cell_type": "code",
   "execution_count": 25,
   "metadata": {},
   "outputs": [
    {
     "data": {
      "application/vnd.jupyter.widget-view+json": {
       "model_id": "29534520d34541b4b2b017ff92f3e4ee",
       "version_major": 2,
       "version_minor": 0
      },
      "text/plain": [
       "interactive(children=(Play(value=0, description='Press play', interval=1000, max=10), Output()), _dom_classes=…"
      ]
     },
     "metadata": {},
     "output_type": "display_data"
    }
   ],
   "source": [
    "import ipywidgets as widgets\n",
    "import datetime\n",
    "\n",
    "# we can produce an animation\n",
    "play = widgets.Play(\n",
    "    interval=1000,\n",
    "    min=0,\n",
    "    max=10,\n",
    "    step=1,\n",
    "    description=\"Press play\",\n",
    ")\n",
    "\n",
    "@widgets.interact(ndays_ago=play)\n",
    "def show_map(ndays_ago=0):\n",
    "    today = datetime.datetime.today()\n",
    "    d = today - datetime.timedelta(days=ndays_ago)\n",
    "    print(str(d.date()))\n",
    "    return Map(\n",
    "        layers=(basemap_to_tiles(basemaps.NASAGIBS.ModisTerraTrueColorCR, str(d.date())), ),\n",
    "        center=(52.204793, 360.121558),\n",
    "        zoom=4\n",
    "    )"
   ]
  },
  {
   "cell_type": "code",
   "execution_count": 26,
   "metadata": {},
   "outputs": [
    {
     "data": {
      "application/vnd.jupyter.widget-view+json": {
       "model_id": "b926ae5a8c7243939458a80b65f21aea",
       "version_major": 2,
       "version_minor": 0
      },
      "text/plain": [
       "Map(basemap={'max_zoom': 19, 'attribution': 'Map data (c) <a href=\"https://openstreetmap.org\">OpenStreetMap</a…"
      ]
     },
     "metadata": {},
     "output_type": "display_data"
    }
   ],
   "source": [
    "m = Map(center=(52.204793, 360.121558), zoom=9)\n",
    "\n",
    "dark_matter_layer = basemap_to_tiles(basemaps.CartoDB.DarkMatter)\n",
    "m.add_layer(dark_matter_layer)\n",
    "m\n",
    "\n"
   ]
  },
  {
   "cell_type": "code",
   "execution_count": 29,
   "metadata": {},
   "outputs": [
    {
     "data": {
      "application/vnd.jupyter.widget-view+json": {
       "model_id": "73802f8c317a4eaaa11609086ea6372a",
       "version_major": 2,
       "version_minor": 0
      },
      "text/plain": [
       "Map(basemap={'max_zoom': 19, 'attribution': 'Map data (c) <a href=\"https://openstreetmap.org\">OpenStreetMap</a…"
      ]
     },
     "metadata": {},
     "output_type": "display_data"
    }
   ],
   "source": [
    "from ipyleaflet import Marker\n",
    "\n",
    "center = (52.204793, 360.121558)\n",
    "\n",
    "m = Map(center=center, zoom=15, scroll_wheel_zoom=True)\n",
    "\n",
    "marker = Marker(location=center, draggable=False, title=\"My marker\")\n",
    "m.add_layer(marker);\n",
    "\n",
    "m\n",
    "\n"
   ]
  },
  {
   "cell_type": "code",
   "execution_count": 30,
   "metadata": {},
   "outputs": [
    {
     "data": {
      "application/vnd.jupyter.widget-view+json": {
       "model_id": "bf44c3a2b7674f95a91dc5f1efab3f00",
       "version_major": 2,
       "version_minor": 0
      },
      "text/plain": [
       "Map(basemap={'max_zoom': 19, 'attribution': 'Map data (c) <a href=\"https://openstreetmap.org\">OpenStreetMap</a…"
      ]
     },
     "metadata": {},
     "output_type": "display_data"
    }
   ],
   "source": [
    "from ipywidgets import HTML\n",
    "\n",
    "from ipyleaflet import Map, Marker, Popup\n",
    "\n",
    "center = (52.204793, 360.121558)\n",
    "\n",
    "m = Map(center=center, zoom=9, close_popup_on_click=False)\n",
    "\n",
    "marker = Marker(location=(52.1, 359.9))\n",
    "m.add_layer(marker)\n",
    "\n",
    "message1 = HTML()\n",
    "message2 = HTML()\n",
    "message1.value = \"Try clicking the marker!\"\n",
    "message2.value = \"Hello <b>World</b>\"\n",
    "message2.placeholder = \"Some HTML\"\n",
    "message2.description = \"Some HTML\"\n",
    "\n",
    "# Popup with a given location on the map:\n",
    "popup = Popup(\n",
    "    location=center,\n",
    "    child=message1,\n",
    "    close_button=False,\n",
    "    auto_close=False,\n",
    "    close_on_escape_key=False\n",
    ")\n",
    "m.add_layer(popup)\n",
    "\n",
    "# Popup associated to a layer\n",
    "marker.popup = message2\n",
    "\n",
    "m"
   ]
  },
  {
   "cell_type": "code",
   "execution_count": 37,
   "metadata": {},
   "outputs": [
    {
     "data": {
      "application/vnd.jupyter.widget-view+json": {
       "model_id": "7123a0afc0a34691b90aabbe3119bd53",
       "version_major": 2,
       "version_minor": 0
      },
      "text/plain": [
       "Map(basemap={'max_zoom': 19, 'attribution': 'Map data (c) <a href=\"https://openstreetmap.org\">OpenStreetMap</a…"
      ]
     },
     "metadata": {},
     "output_type": "display_data"
    }
   ],
   "source": [
    "from ipywidgets import HTML, Button\n",
    "\n",
    "from ipyleaflet import Map, Marker, Popup\n",
    "\n",
    "center = (52.204793, 360.121558)\n",
    "\n",
    "m = Map(center=center, zoom=9)\n",
    "\n",
    "marker = Marker(location=(52.1, 359.9))\n",
    "m.add_layer(marker)\n",
    "\n",
    "message = Button(description=\"Test\")\n",
    "#message.value = \"Hello <b>World</b>\"\n",
    "#message.placeholder = \"Some HTML placeholder\"\n",
    "#message.description = \"Some HTML description\"\n",
    "\n",
    "# Popup with a given location on the map:\n",
    "#popup = Popup(\n",
    "#    location=center,\n",
    "#    close_button=False,\n",
    "#    auto_close=False,\n",
    "#    close_on_escape_key=False\n",
    "#)\n",
    "#m.add_layer(popup)\n",
    "\n",
    "# Popup associated to a layer\n",
    "marker.popup = message\n",
    "\n",
    "m"
   ]
  },
  {
   "cell_type": "code",
   "execution_count": 39,
   "metadata": {},
   "outputs": [
    {
     "data": {
      "application/vnd.jupyter.widget-view+json": {
       "model_id": "f9aaa6a6bf334d7b9b7bf937bc97bfca",
       "version_major": 2,
       "version_minor": 0
      },
      "text/plain": [
       "Map(basemap={'max_zoom': 19, 'attribution': 'Map data (c) <a href=\"https://openstreetmap.org\">OpenStreetMap</a…"
      ]
     },
     "metadata": {},
     "output_type": "display_data"
    }
   ],
   "source": [
    "from ipyleaflet import Map, WMSLayer\n",
    "\n",
    "wms = WMSLayer(\n",
    "    url=\"https://demo.boundlessgeo.com/geoserver/ows?\",\n",
    "    layers=\"nasa:bluemarble\"\n",
    ")\n",
    "\n",
    "m = Map(layers=(wms, ), center=(42.5531, -48.6914), zoom=3, scroll_wheel_zoom=True)\n",
    "\n",
    "m\n"
   ]
  },
  {
   "cell_type": "code",
   "execution_count": 41,
   "metadata": {},
   "outputs": [
    {
     "data": {
      "application/vnd.jupyter.widget-view+json": {
       "model_id": "8bbf29ffdf6141e086b3e4df2e629342",
       "version_major": 2,
       "version_minor": 0
      },
      "text/plain": [
       "Map(basemap={'max_zoom': 19, 'attribution': 'Map data (c) <a href=\"https://openstreetmap.org\">OpenStreetMap</a…"
      ]
     },
     "metadata": {},
     "output_type": "display_data"
    }
   ],
   "source": [
    "from ipyleaflet import Map, VideoOverlay\n",
    "\n",
    "m = Map(center=(25, -115), zoom=4)\n",
    "\n",
    "video = VideoOverlay(\n",
    "    url=\"http://dl3.webmfiles.org/big-buck-bunny_trailer.webm\",\n",
    "    bounds=((13, -130), (32, -100))\n",
    ")\n",
    "\n",
    "m.add_layer(video);\n",
    "m"
   ]
  },
  {
   "cell_type": "code",
   "execution_count": 43,
   "metadata": {},
   "outputs": [
    {
     "data": {
      "application/vnd.jupyter.widget-view+json": {
       "model_id": "4a1254d5dfbc453f9cd9b90dbaf03778",
       "version_major": 2,
       "version_minor": 0
      },
      "text/plain": [
       "Map(basemap={'max_zoom': 19, 'attribution': 'Map data (c) <a href=\"https://openstreetmap.org\">OpenStreetMap</a…"
      ]
     },
     "metadata": {},
     "output_type": "display_data"
    }
   ],
   "source": [
    "from ipyleaflet import Map, Polygon\n",
    "\n",
    "center=(25, -115)\n",
    "\n",
    "\n",
    "polygon = Polygon(\n",
    "    locations=[center, (center[0], center[1]+1), (center[0]-1, center[1])],\n",
    "    color=\"green\",\n",
    "    fill_color=\"green\"\n",
    ")\n",
    "\n",
    "m = Map(center=(25, -115), zoom=6)\n",
    "m.add_layer(polygon);\n",
    "\n",
    "m\n"
   ]
  },
  {
   "cell_type": "code",
   "execution_count": 44,
   "metadata": {},
   "outputs": [
    {
     "data": {
      "application/vnd.jupyter.widget-view+json": {
       "model_id": "7202a052f4384bc2aaa0d688d6866221",
       "version_major": 2,
       "version_minor": 0
      },
      "text/plain": [
       "Map(basemap={'max_zoom': 19, 'attribution': 'Map data (c) <a href=\"https://openstreetmap.org\">OpenStreetMap</a…"
      ]
     },
     "metadata": {},
     "output_type": "display_data"
    }
   ],
   "source": [
    "from ipyleaflet import Map, basemaps, basemap_to_tiles, Rectangle\n",
    "\n",
    "watercolor = basemap_to_tiles(basemaps.Stamen.Watercolor)\n",
    "\n",
    "m = Map(layers=(watercolor, ), center=(53, 354), zoom=5)\n",
    "\n",
    "rectangle = Rectangle(bounds=((52, 354), (53, 360)))\n",
    "\n",
    "m.add_layer(rectangle)\n",
    "\n",
    "m\n",
    "\n"
   ]
  },
  {
   "cell_type": "code",
   "execution_count": 45,
   "metadata": {},
   "outputs": [
    {
     "data": {
      "application/vnd.jupyter.widget-view+json": {
       "model_id": "b17ace56923349a09b6dd1c5e382a62b",
       "version_major": 2,
       "version_minor": 0
      },
      "text/plain": [
       "Map(basemap={'max_zoom': 19, 'attribution': 'Map data (c) <a href=\"https://openstreetmap.org\">OpenStreetMap</a…"
      ]
     },
     "metadata": {},
     "output_type": "display_data"
    }
   ],
   "source": [
    "from ipyleaflet import Map, basemaps, basemap_to_tiles, Circle\n",
    "\n",
    "watercolor = basemap_to_tiles(basemaps.Stamen.Watercolor)\n",
    "\n",
    "m = Map(layers=(watercolor, ), center=(53, 354), zoom=5)\n",
    "\n",
    "circle = Circle()\n",
    "circle.location = (50, 354)\n",
    "circle.radius = 50000\n",
    "circle.color = \"green\"\n",
    "circle.fill_color = \"green\"\n",
    "\n",
    "m.add_layer(circle)\n",
    "\n",
    "m\n"
   ]
  },
  {
   "cell_type": "code",
   "execution_count": 46,
   "metadata": {},
   "outputs": [
    {
     "data": {
      "application/vnd.jupyter.widget-view+json": {
       "model_id": "51ab7e8602a044b9af7fa477e5cc739b",
       "version_major": 2,
       "version_minor": 0
      },
      "text/plain": [
       "Map(basemap={'max_zoom': 19, 'attribution': 'Map data (c) <a href=\"https://openstreetmap.org\">OpenStreetMap</a…"
      ]
     },
     "metadata": {},
     "output_type": "display_data"
    }
   ],
   "source": [
    "from ipyleaflet import Map, basemaps, basemap_to_tiles, CircleMarker\n",
    "\n",
    "watercolor = basemap_to_tiles(basemaps.Stamen.Watercolor)\n",
    "\n",
    "m = Map(layers=(watercolor, ), center=(53, 354), zoom=5)\n",
    "\n",
    "circle_marker = CircleMarker()\n",
    "circle_marker.location = (55, 360)\n",
    "circle_marker.radius = 50\n",
    "circle_marker.color = \"red\"\n",
    "circle_marker.fill_color = \"red\"\n",
    "\n",
    "m.add_layer(circle_marker)\n",
    "\n",
    "m"
   ]
  },
  {
   "cell_type": "code",
   "execution_count": 47,
   "metadata": {},
   "outputs": [
    {
     "data": {
      "application/vnd.jupyter.widget-view+json": {
       "model_id": "fec14923cb854939a475c72a0a48f8ce",
       "version_major": 2,
       "version_minor": 0
      },
      "text/plain": [
       "Map(basemap={'max_zoom': 19, 'attribution': 'Map data (c) <a href=\"https://openstreetmap.org\">OpenStreetMap</a…"
      ]
     },
     "metadata": {},
     "output_type": "display_data"
    }
   ],
   "source": [
    "from ipyleaflet import Map, Marker, MarkerCluster\n",
    "\n",
    "m = Map(center=(50, 0), zoom=5)\n",
    "\n",
    "marker1 = Marker(location=(48, -2))\n",
    "marker2 = Marker(location=(50, 0))\n",
    "marker3 = Marker(location=(52, 2))\n",
    "\n",
    "marker_cluster = MarkerCluster(\n",
    "    markers=(marker1, marker2, marker3)\n",
    ")\n",
    "\n",
    "m.add_layer(marker_cluster);\n",
    "\n",
    "m\n"
   ]
  },
  {
   "cell_type": "code",
   "execution_count": 48,
   "metadata": {},
   "outputs": [
    {
     "data": {
      "application/vnd.jupyter.widget-view+json": {
       "model_id": "7633155d7c0945009fdea1988c96cd50",
       "version_major": 2,
       "version_minor": 0
      },
      "text/plain": [
       "Map(basemap={'max_zoom': 19, 'attribution': 'Map data (c) <a href=\"https://openstreetmap.org\">OpenStreetMap</a…"
      ]
     },
     "metadata": {},
     "output_type": "display_data"
    }
   ],
   "source": [
    "from ipyleaflet import Map, Heatmap\n",
    "from random import uniform\n",
    "m = Map(center=(0, 0), zoom=2)\n",
    "\n",
    "heatmap = Heatmap(\n",
    "    locations=[[uniform(-80, 80), uniform(-180, 180), uniform(0, 1000)] for i in range(1000)],\n",
    "    radius=20\n",
    ")\n",
    "\n",
    "m.add_layer(heatmap);\n",
    "\n",
    "m\n"
   ]
  },
  {
   "cell_type": "code",
   "execution_count": 50,
   "metadata": {},
   "outputs": [
    {
     "data": {
      "application/vnd.jupyter.widget-view+json": {
       "model_id": "154056cac5c642318a7ae01b7bcf7410",
       "version_major": 2,
       "version_minor": 0
      },
      "text/plain": [
       "Map(basemap={'max_zoom': 19, 'attribution': 'Map data (c) <a href=\"https://openstreetmap.org\">OpenStreetMap</a…"
      ]
     },
     "metadata": {},
     "output_type": "display_data"
    }
   ],
   "source": [
    "from ipyleaflet import (\n",
    "    Map, basemaps, basemap_to_tiles,\n",
    "    Circle, Marker, Rectangle, LayerGroup\n",
    ")\n",
    "\n",
    "toner = basemap_to_tiles(basemaps.Stamen.Toner)\n",
    "\n",
    "m = Map(layers=(toner, ), center=(50, 354), zoom=5)\n",
    "\n",
    "# Create some layers\n",
    "marker = Marker(location=(50, 354))\n",
    "circle = Circle(location=(50, 370), radius=50000, color=\"yellow\", fill_color=\"yellow\")\n",
    "rectangle = Rectangle(bounds=((54, 354), (55, 360)), color=\"orange\", fill_color=\"orange\")\n",
    "\n",
    "# Create layer group\n",
    "layer_group = LayerGroup(layers=(marker, circle))\n",
    "\n",
    "m.add_layer(layer_group)\n",
    "\n",
    "layer_group.add_layer(rectangle)\n",
    "\n",
    "layer_group.remove_layer(circle)\n",
    "\n",
    "m"
   ]
  },
  {
   "cell_type": "code",
   "execution_count": 52,
   "metadata": {},
   "outputs": [
    {
     "data": {
      "application/vnd.jupyter.widget-view+json": {
       "model_id": "cf55ac1ece8a4f2ab12f03b7e3ee06e0",
       "version_major": 2,
       "version_minor": 0
      },
      "text/plain": [
       "Map(basemap={'max_zoom': 19, 'attribution': 'Map data (c) <a href=\"https://openstreetmap.org\">OpenStreetMap</a…"
      ]
     },
     "metadata": {},
     "output_type": "display_data"
    }
   ],
   "source": [
    "from ipyleaflet import Map, basemaps, basemap_to_tiles, SplitMapControl\n",
    "\n",
    "m = Map(center=(42.6824, 365.581), zoom=5)\n",
    "\n",
    "right_layer = basemap_to_tiles(basemaps.NASAGIBS.ModisTerraTrueColorCR, \"2017-11-11\")\n",
    "left_layer = basemap_to_tiles(basemaps.OpenStreetMap.Mapnik, \"2017-11-11\")\n",
    "\n",
    "control = SplitMapControl(left_layer=left_layer, right_layer=right_layer)\n",
    "m.add_control(control)\n",
    "\n",
    "m"
   ]
  },
  {
   "cell_type": "code",
   "execution_count": 54,
   "metadata": {},
   "outputs": [
    {
     "data": {
      "application/vnd.jupyter.widget-view+json": {
       "model_id": "cd6797b1716843ab95618b37999d9fb6",
       "version_major": 2,
       "version_minor": 0
      },
      "text/plain": [
       "Map(basemap={'max_zoom': 19, 'attribution': 'Map data (c) <a href=\"https://openstreetmap.org\">OpenStreetMap</a…"
      ]
     },
     "metadata": {},
     "output_type": "display_data"
    }
   ],
   "source": [
    "from ipyleaflet import Map, basemaps, basemap_to_tiles, SplitMapControl\n",
    "\n",
    "m = Map(center=(42.6824, 365.581), zoom=5)\n",
    "\n",
    "right_layer = basemap_to_tiles(basemaps.NASAGIBS.ModisTerraTrueColorCR, \"2017-11-11\")\n",
    "left_layer = basemap_to_tiles(basemaps.OpenStreetMap.Mapnik, \"2017-11-11\")\n",
    "\n",
    "control = SplitMapControl(left_layer=left_layer, right_layer=right_layer)\n",
    "m.add_control(control)\n",
    "\n",
    "marker = Marker(location=(43.2, 5.3))\n",
    "m.add_layer(marker)\n",
    "message = Button(description=\"Test\")\n",
    "marker.popup = message\n",
    "\n",
    "m"
   ]
  },
  {
   "cell_type": "code",
   "execution_count": null,
   "metadata": {},
   "outputs": [],
   "source": []
  }
 ],
 "metadata": {
  "kernelspec": {
   "display_name": "Python 3",
   "language": "python",
   "name": "python3"
  },
  "language_info": {
   "codemirror_mode": {
    "name": "ipython",
    "version": 3
   },
   "file_extension": ".py",
   "mimetype": "text/x-python",
   "name": "python",
   "nbconvert_exporter": "python",
   "pygments_lexer": "ipython3",
   "version": "3.5.2"
  }
 },
 "nbformat": 4,
 "nbformat_minor": 2
}
