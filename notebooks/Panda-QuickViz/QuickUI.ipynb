{
 "cells": [
  {
   "cell_type": "code",
   "execution_count": 1,
   "metadata": {},
   "outputs": [
    {
     "name": "stderr",
     "output_type": "stream",
     "text": [
      "/home/cduquesne/code/perso/data-science-exercises/venv/lib/python3.5/importlib/_bootstrap.py:222: RuntimeWarning: numpy.dtype size changed, may indicate binary incompatibility. Expected 96, got 88\n",
      "  return f(*args, **kwds)\n"
     ]
    }
   ],
   "source": [
    "%matplotlib inline\n",
    "\n",
    "import pandas as pd\n",
    "import ipywidgets as widgets\n",
    "import inspect\n",
    "from vega_datasets import data\n",
    "cars = data.cars()"
   ]
  },
  {
   "cell_type": "code",
   "execution_count": 2,
   "metadata": {},
   "outputs": [
    {
     "data": {
      "application/vnd.jupyter.widget-view+json": {
       "model_id": "3fb9f56abc2047208f9e7238eb9bac8e",
       "version_major": 2,
       "version_minor": 0
      },
      "text/plain": [
       "interactive(children=(Dropdown(description='kind', options=('area', 'bar', 'barh', 'box', 'density', 'hexbin',…"
      ]
     },
     "metadata": {},
     "output_type": "display_data"
    }
   ],
   "source": [
    "def explore_kind(df, kind):\n",
    "    method = getattr(df.plot, kind)\n",
    "    params = inspect.signature(df.plot).parameters\n",
    "    params_method = inspect.signature(method).parameters\n",
    "    print(params_method)\n",
    "    d = {\n",
    "        'x': list(df),\n",
    "        'y': list(df),\n",
    "    }\n",
    "    @widgets.interact(**d)\n",
    "    def f(**kwargs):\n",
    "        method(**kwargs)\n",
    "    \n",
    "\n",
    "def explore(df):\n",
    "    if not isinstance(df, pd.core.frame.DataFrame):\n",
    "        raise TypeError(\"I only accept pandas dataframes\")\n",
    "\n",
    "    plottypes = [p for p in dir(df.plot) if not p.startswith(\"_\")]\n",
    "    @widgets.interact(kind=plottypes)\n",
    "    def f(kind):\n",
    "        explore_kind(df, kind)\n",
    "    \n",
    "\n",
    "explore(cars)"
   ]
  },
  {
   "cell_type": "code",
   "execution_count": 7,
   "metadata": {},
   "outputs": [],
   "source": [
    "def plot_types():\n",
    "    return [p for p in dir(pd.DataFrame().plot) if not p.startswith(\"_\")]\n",
    "\n",
    "class UI(object):\n",
    "    def __init__(self, dataframe):\n",
    "        self.df = dataframe\n",
    "        self.ui = widgets.VBox()\n",
    "        self.graph_features = dict()\n",
    "        self.features = {\n",
    "            \"x\": \"string\",\n",
    "            \"y\": \"string\",\n",
    "            \"subplots\": \"bool\",\n",
    "            \"sharex\": \"bool\",\n",
    "            \"sharey\": \"bool\",\n",
    "            \"layout\": \"pair\",\n",
    "            \"figsize\": \"pair\",\n",
    "            \"use_index\": \"bool\",\n",
    "            \"title\": \"string\",\n",
    "            \"grid\": \"bool\",\n",
    "            \"legend\": \"bool\",\n",
    "            \"style\",\n",
    "            \"logx\": \"bool\",\n",
    "            \"logy\": \"bool\",\n",
    "            \"loglog\": \"bool\",\n",
    "            \"xticks\",\n",
    "            \"yticks\",\n",
    "            \"xlim\": \"pair\",\n",
    "            \"ylim\": \"pai,\n",
    "            \"rot\",\n",
    "            \"fontsize\",\n",
    "            \"colormap\",\n",
    "            \"table\",\n",
    "            \"yerr\",\n",
    "            \"xerr\",\n",
    "            \"secondary_y\",\n",
    "            \"sort_columns\"\n",
    "        }\n",
    "\n",
    "        \n",
    "    def add_feature_selector(self, feature):\n",
    "        self.graph_features[feature] = None\n",
    "        self.manage_features()\n",
    "        \n",
    "    def redraw(self):\n",
    "        for feature, chooser in self.graph_features.items():\n",
    "            if chooser is None:\n",
    "                hbox = \n",
    "            \n",
    "    \n",
    "    def plot(self, kwargs):\n",
    "        \n",
    "        method = getattr(self.df.plot, self.graph_type)"
   ]
  },
  {
   "cell_type": "code",
   "execution_count": 5,
   "metadata": {},
   "outputs": [
    {
     "data": {
      "text/html": [
       "<div>\n",
       "<style scoped>\n",
       "    .dataframe tbody tr th:only-of-type {\n",
       "        vertical-align: middle;\n",
       "    }\n",
       "\n",
       "    .dataframe tbody tr th {\n",
       "        vertical-align: top;\n",
       "    }\n",
       "\n",
       "    .dataframe thead th {\n",
       "        text-align: right;\n",
       "    }\n",
       "</style>\n",
       "<table border=\"1\" class=\"dataframe\">\n",
       "  <thead>\n",
       "    <tr style=\"text-align: right;\">\n",
       "      <th></th>\n",
       "      <th>Acceleration</th>\n",
       "      <th>Cylinders</th>\n",
       "      <th>Displacement</th>\n",
       "      <th>Horsepower</th>\n",
       "      <th>Miles_per_Gallon</th>\n",
       "      <th>Name</th>\n",
       "      <th>Origin</th>\n",
       "      <th>Weight_in_lbs</th>\n",
       "      <th>Year</th>\n",
       "    </tr>\n",
       "  </thead>\n",
       "  <tbody>\n",
       "    <tr>\n",
       "      <th>0</th>\n",
       "      <td>12.0</td>\n",
       "      <td>8</td>\n",
       "      <td>307.0</td>\n",
       "      <td>130.0</td>\n",
       "      <td>18.0</td>\n",
       "      <td>chevrolet chevelle malibu</td>\n",
       "      <td>USA</td>\n",
       "      <td>3504</td>\n",
       "      <td>1970-01-01</td>\n",
       "    </tr>\n",
       "    <tr>\n",
       "      <th>1</th>\n",
       "      <td>11.5</td>\n",
       "      <td>8</td>\n",
       "      <td>350.0</td>\n",
       "      <td>165.0</td>\n",
       "      <td>15.0</td>\n",
       "      <td>buick skylark 320</td>\n",
       "      <td>USA</td>\n",
       "      <td>3693</td>\n",
       "      <td>1970-01-01</td>\n",
       "    </tr>\n",
       "    <tr>\n",
       "      <th>2</th>\n",
       "      <td>11.0</td>\n",
       "      <td>8</td>\n",
       "      <td>318.0</td>\n",
       "      <td>150.0</td>\n",
       "      <td>18.0</td>\n",
       "      <td>plymouth satellite</td>\n",
       "      <td>USA</td>\n",
       "      <td>3436</td>\n",
       "      <td>1970-01-01</td>\n",
       "    </tr>\n",
       "    <tr>\n",
       "      <th>3</th>\n",
       "      <td>12.0</td>\n",
       "      <td>8</td>\n",
       "      <td>304.0</td>\n",
       "      <td>150.0</td>\n",
       "      <td>16.0</td>\n",
       "      <td>amc rebel sst</td>\n",
       "      <td>USA</td>\n",
       "      <td>3433</td>\n",
       "      <td>1970-01-01</td>\n",
       "    </tr>\n",
       "    <tr>\n",
       "      <th>4</th>\n",
       "      <td>10.5</td>\n",
       "      <td>8</td>\n",
       "      <td>302.0</td>\n",
       "      <td>140.0</td>\n",
       "      <td>17.0</td>\n",
       "      <td>ford torino</td>\n",
       "      <td>USA</td>\n",
       "      <td>3449</td>\n",
       "      <td>1970-01-01</td>\n",
       "    </tr>\n",
       "  </tbody>\n",
       "</table>\n",
       "</div>"
      ],
      "text/plain": [
       "   Acceleration  Cylinders  Displacement  Horsepower  Miles_per_Gallon  \\\n",
       "0          12.0          8         307.0       130.0              18.0   \n",
       "1          11.5          8         350.0       165.0              15.0   \n",
       "2          11.0          8         318.0       150.0              18.0   \n",
       "3          12.0          8         304.0       150.0              16.0   \n",
       "4          10.5          8         302.0       140.0              17.0   \n",
       "\n",
       "                        Name Origin  Weight_in_lbs       Year  \n",
       "0  chevrolet chevelle malibu    USA           3504 1970-01-01  \n",
       "1          buick skylark 320    USA           3693 1970-01-01  \n",
       "2         plymouth satellite    USA           3436 1970-01-01  \n",
       "3              amc rebel sst    USA           3433 1970-01-01  \n",
       "4                ford torino    USA           3449 1970-01-01  "
      ]
     },
     "execution_count": 5,
     "metadata": {},
     "output_type": "execute_result"
    }
   ],
   "source": [
    "import seaborn as sns\n",
    "cars.head()"
   ]
  },
  {
   "cell_type": "code",
   "execution_count": null,
   "metadata": {},
   "outputs": [],
   "source": []
  },
  {
   "cell_type": "code",
   "execution_count": null,
   "metadata": {},
   "outputs": [],
   "source": []
  }
 ],
 "metadata": {
  "kernelspec": {
   "display_name": "Python 3",
   "language": "python",
   "name": "python3"
  },
  "language_info": {
   "codemirror_mode": {
    "name": "ipython",
    "version": 3
   },
   "file_extension": ".py",
   "mimetype": "text/x-python",
   "name": "python",
   "nbconvert_exporter": "python",
   "pygments_lexer": "ipython3",
   "version": "3.5.2"
  }
 },
 "nbformat": 4,
 "nbformat_minor": 2
}
