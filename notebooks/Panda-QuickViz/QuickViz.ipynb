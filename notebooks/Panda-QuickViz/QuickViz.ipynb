{
 "cells": [
  {
   "cell_type": "code",
   "execution_count": 18,
   "metadata": {},
   "outputs": [
    {
     "data": {
      "text/plain": [
       "['7zip',\n",
       " 'airports',\n",
       " 'anscombe',\n",
       " 'barley',\n",
       " 'birdstrikes',\n",
       " 'budget',\n",
       " 'budgets',\n",
       " 'burtin',\n",
       " 'cars',\n",
       " 'climate',\n",
       " 'co2_concentration',\n",
       " 'countries',\n",
       " 'crimea',\n",
       " 'disasters',\n",
       " 'driving',\n",
       " 'earthquakes',\n",
       " 'ffox',\n",
       " 'flare',\n",
       " 'flare_dependencies',\n",
       " 'flights_10k',\n",
       " 'flights_200k',\n",
       " 'flights_20k',\n",
       " 'flights_2k',\n",
       " 'flights_3m',\n",
       " 'flights_5k',\n",
       " 'flights_airport',\n",
       " 'gapminder',\n",
       " 'gapminder_health_income',\n",
       " 'gimp',\n",
       " 'github',\n",
       " 'graticule',\n",
       " 'income',\n",
       " 'iowa_electricity',\n",
       " 'iris',\n",
       " 'jobs',\n",
       " 'la_riots',\n",
       " 'londonBoroughs',\n",
       " 'londonCentroids',\n",
       " 'londonTubeLines',\n",
       " 'lookup_groups',\n",
       " 'lookup_people',\n",
       " 'miserables',\n",
       " 'monarchs',\n",
       " 'movies',\n",
       " 'normal_2d',\n",
       " 'obesity',\n",
       " 'points',\n",
       " 'population',\n",
       " 'population_engineers_hurricanes',\n",
       " 'seattle_temps',\n",
       " 'seattle_weather',\n",
       " 'sf_temps',\n",
       " 'sp500',\n",
       " 'stocks',\n",
       " 'udistrict',\n",
       " 'unemployment',\n",
       " 'unemployment_across_industries',\n",
       " 'us_10m',\n",
       " 'us_state_capitals',\n",
       " 'weather',\n",
       " 'weball26',\n",
       " 'wheat',\n",
       " 'world_110m',\n",
       " 'zipcodes']"
      ]
     },
     "execution_count": 18,
     "metadata": {},
     "output_type": "execute_result"
    }
   ],
   "source": [
    "# load a simple dataset as a pandas DataFrame\n",
    "from vega_datasets import data\n",
    "dir(data)"
   ]
  },
  {
   "cell_type": "code",
   "execution_count": 35,
   "metadata": {},
   "outputs": [
    {
     "data": {
      "text/html": [
       "<div>\n",
       "<style scoped>\n",
       "    .dataframe tbody tr th:only-of-type {\n",
       "        vertical-align: middle;\n",
       "    }\n",
       "\n",
       "    .dataframe tbody tr th {\n",
       "        vertical-align: top;\n",
       "    }\n",
       "\n",
       "    .dataframe thead th {\n",
       "        text-align: right;\n",
       "    }\n",
       "</style>\n",
       "<table border=\"1\" class=\"dataframe\">\n",
       "  <thead>\n",
       "    <tr style=\"text-align: right;\">\n",
       "      <th></th>\n",
       "      <th>Acceleration</th>\n",
       "      <th>Cylinders</th>\n",
       "      <th>Displacement</th>\n",
       "      <th>Horsepower</th>\n",
       "      <th>Miles_per_Gallon</th>\n",
       "      <th>Name</th>\n",
       "      <th>Origin</th>\n",
       "      <th>Weight_in_lbs</th>\n",
       "      <th>Year</th>\n",
       "    </tr>\n",
       "  </thead>\n",
       "  <tbody>\n",
       "    <tr>\n",
       "      <th>0</th>\n",
       "      <td>12.0</td>\n",
       "      <td>8</td>\n",
       "      <td>307.0</td>\n",
       "      <td>130.0</td>\n",
       "      <td>18.0</td>\n",
       "      <td>chevrolet chevelle malibu</td>\n",
       "      <td>USA</td>\n",
       "      <td>3504</td>\n",
       "      <td>1970-01-01</td>\n",
       "    </tr>\n",
       "    <tr>\n",
       "      <th>1</th>\n",
       "      <td>11.5</td>\n",
       "      <td>8</td>\n",
       "      <td>350.0</td>\n",
       "      <td>165.0</td>\n",
       "      <td>15.0</td>\n",
       "      <td>buick skylark 320</td>\n",
       "      <td>USA</td>\n",
       "      <td>3693</td>\n",
       "      <td>1970-01-01</td>\n",
       "    </tr>\n",
       "    <tr>\n",
       "      <th>2</th>\n",
       "      <td>11.0</td>\n",
       "      <td>8</td>\n",
       "      <td>318.0</td>\n",
       "      <td>150.0</td>\n",
       "      <td>18.0</td>\n",
       "      <td>plymouth satellite</td>\n",
       "      <td>USA</td>\n",
       "      <td>3436</td>\n",
       "      <td>1970-01-01</td>\n",
       "    </tr>\n",
       "    <tr>\n",
       "      <th>3</th>\n",
       "      <td>12.0</td>\n",
       "      <td>8</td>\n",
       "      <td>304.0</td>\n",
       "      <td>150.0</td>\n",
       "      <td>16.0</td>\n",
       "      <td>amc rebel sst</td>\n",
       "      <td>USA</td>\n",
       "      <td>3433</td>\n",
       "      <td>1970-01-01</td>\n",
       "    </tr>\n",
       "    <tr>\n",
       "      <th>4</th>\n",
       "      <td>10.5</td>\n",
       "      <td>8</td>\n",
       "      <td>302.0</td>\n",
       "      <td>140.0</td>\n",
       "      <td>17.0</td>\n",
       "      <td>ford torino</td>\n",
       "      <td>USA</td>\n",
       "      <td>3449</td>\n",
       "      <td>1970-01-01</td>\n",
       "    </tr>\n",
       "  </tbody>\n",
       "</table>\n",
       "</div>"
      ],
      "text/plain": [
       "   Acceleration  Cylinders  Displacement  Horsepower  Miles_per_Gallon  \\\n",
       "0          12.0          8         307.0       130.0              18.0   \n",
       "1          11.5          8         350.0       165.0              15.0   \n",
       "2          11.0          8         318.0       150.0              18.0   \n",
       "3          12.0          8         304.0       150.0              16.0   \n",
       "4          10.5          8         302.0       140.0              17.0   \n",
       "\n",
       "                        Name Origin  Weight_in_lbs       Year  \n",
       "0  chevrolet chevelle malibu    USA           3504 1970-01-01  \n",
       "1          buick skylark 320    USA           3693 1970-01-01  \n",
       "2         plymouth satellite    USA           3436 1970-01-01  \n",
       "3              amc rebel sst    USA           3433 1970-01-01  \n",
       "4                ford torino    USA           3449 1970-01-01  "
      ]
     },
     "execution_count": 35,
     "metadata": {},
     "output_type": "execute_result"
    }
   ],
   "source": [
    "cars = data.cars()\n",
    "cars.head()"
   ]
  },
  {
   "cell_type": "code",
   "execution_count": 36,
   "metadata": {},
   "outputs": [
    {
     "data": {
      "text/plain": [
       "['area',\n",
       " 'bar',\n",
       " 'barh',\n",
       " 'box',\n",
       " 'density',\n",
       " 'hexbin',\n",
       " 'hist',\n",
       " 'kde',\n",
       " 'line',\n",
       " 'pie',\n",
       " 'scatter']"
      ]
     },
     "execution_count": 36,
     "metadata": {},
     "output_type": "execute_result"
    }
   ],
   "source": [
    "%matplotlib inline\n",
    "\n",
    "import pandas as pd\n",
    "import ipywidgets as widgets\n",
    "import inspect\n",
    "\n",
    "\n",
    "def explore(df):\n",
    "    if not isinstance(df, pd.core.frame.DataFrame):\n",
    "        raise TypeError(\"I only accept pandas dataframes\")\n",
    "    options = [p for p in dir(df.plot) if not p.startswith(\"_\")]\n",
    "    \n",
    "    #def get_help(name):\n",
    "    #    help(getattr(df.plot, name))\n",
    "    def plot(name):\n",
    "        #df.plot(kind=name)\n",
    "        print (inspect.signature(df.plot))\n",
    "        print (inspect.signature(getattr(df.plot, name)))\n",
    "        wigets.interact\n",
    "    \n",
    "    widgets.interact(\n",
    "        plot, \n",
    "        name=widgets.Dropdown(\n",
    "            options=options,\n",
    "            value=options[0],\n",
    "            description='plot:')\n",
    "    )\n",
    "    headers = list(df)\n",
    "    widgets.interact\n",
    "    \n",
    "[g for g in dir(cars.plot) if not g.startswith(\"_\")]"
   ]
  },
  {
   "cell_type": "code",
   "execution_count": 37,
   "metadata": {},
   "outputs": [
    {
     "data": {
      "application/vnd.jupyter.widget-view+json": {
       "model_id": "2b54cb61f72145f18a6e02cfe50db816",
       "version_major": 2,
       "version_minor": 0
      },
      "text/plain": [
       "interactive(children=(Dropdown(description='plot:', options=('area', 'bar', 'barh', 'box', 'density', 'hexbin'…"
      ]
     },
     "metadata": {},
     "output_type": "display_data"
    }
   ],
   "source": [
    "explore(cars)"
   ]
  },
  {
   "cell_type": "code",
   "execution_count": null,
   "metadata": {},
   "outputs": [],
   "source": []
  },
  {
   "cell_type": "code",
   "execution_count": null,
   "metadata": {},
   "outputs": [],
   "source": []
  }
 ],
 "metadata": {
  "kernelspec": {
   "display_name": "Python 3",
   "language": "python",
   "name": "python3"
  },
  "language_info": {
   "codemirror_mode": {
    "name": "ipython",
    "version": 3
   },
   "file_extension": ".py",
   "mimetype": "text/x-python",
   "name": "python",
   "nbconvert_exporter": "python",
   "pygments_lexer": "ipython3",
   "version": "3.5.2"
  }
 },
 "nbformat": 4,
 "nbformat_minor": 2
}
