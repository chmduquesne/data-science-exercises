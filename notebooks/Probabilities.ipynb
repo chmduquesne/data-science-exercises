{
 "cells": [
  {
   "cell_type": "markdown",
   "metadata": {},
   "source": [
    "* p-value: probability to observe more extreme if the null hypothesis is assumed. Low means H0 is unlikely\n",
    "* r-squared: explained variation / total variation r. close to 1 means it explains well.\n",
    "* variance = (stdev)^2 = mean (Xi - mean(X))^2\n",
    "* estimator = function which produces a value (=estimation) from a sample. It can be seen as a random variable (estimation=realisation)."
   ]
  },
  {
   "cell_type": "code",
   "execution_count": null,
   "metadata": {},
   "outputs": [],
   "source": []
  }
 ],
 "metadata": {
  "kernelspec": {
   "display_name": "Python 3",
   "language": "python",
   "name": "python3"
  },
  "language_info": {
   "codemirror_mode": {
    "name": "ipython",
    "version": 3
   },
   "file_extension": ".py",
   "mimetype": "text/x-python",
   "name": "python",
   "nbconvert_exporter": "python",
   "pygments_lexer": "ipython3",
   "version": "3.5.2"
  }
 },
 "nbformat": 4,
 "nbformat_minor": 2
}
