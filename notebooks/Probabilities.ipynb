{
 "cells": [
  {
   "cell_type": "markdown",
   "metadata": {},
   "source": [
    "* p-value: probability to observe more extreme if the null hypothesis is assumed. Low means H0 is unlikely\n",
    "* r-squared: explained variation / total variation r. close to 1 means it explains well.\n",
    "* variance = (stdev)^2 = mean (Xi - mean(X))^2\n",
    "\n",
    "Formal definition\n",
    "\n",
    "An estimator is a function which produces a value from a sample. This value is called estimation. An estimator is a random variable and the estimations are its realisations."
   ]
  },
  {
   "cell_type": "code",
   "execution_count": null,
   "metadata": {},
   "outputs": [],
   "source": []
  }
 ],
 "metadata": {
  "kernelspec": {
   "display_name": "Python 3",
   "language": "python",
   "name": "python3"
  },
  "language_info": {
   "codemirror_mode": {
    "name": "ipython",
    "version": 3
   },
   "file_extension": ".py",
   "mimetype": "text/x-python",
   "name": "python",
   "nbconvert_exporter": "python",
   "pygments_lexer": "ipython3",
   "version": "3.5.2"
  }
 },
 "nbformat": 4,
 "nbformat_minor": 2
}
